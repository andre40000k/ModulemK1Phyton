/
Name
# %% [code] {"jupyter":{"outputs_hidden":false},"execution":{"iopub.status.busy":"2022-12-27T10:10:39.865809Z","iopub.execute_input":"2022-12-27T10:10:39.866289Z","iopub.status.idle":"2022-12-27T10:10:39.874138Z","shell.execute_reply.started":"2022-12-27T10:10:39.866245Z","shell.execute_reply":"2022-12-27T10:10:39.872286Z"}}
import pandas as pd
import numpy as np
import seaborn as sns
import matplotlib.pyplot as plt
from sklearn.metrics import classification_report, confusion_matrix
from sklearn.utils import shuffle
from sklearn.preprocessing import LabelEncoder
from sklearn.cluster import KMeans
​
# %% [markdown]
# ***Поделючаем датасет и исключаем ненужные данные, а именно значение "Iris-versicolor" ***
​
# %% [code] {"jupyter":{"outputs_hidden":false},"execution":{"iopub.status.busy":"2022-12-27T10:10:39.877355Z","iopub.execute_input":"2022-12-27T10:10:39.877914Z","iopub.status.idle":"2022-12-27T10:10:39.914795Z","shell.execute_reply.started":"2022-12-27T10:10:39.877859Z","shell.execute_reply":"2022-12-27T10:10:39.913463Z"}}
​
iris = pd.read_csv('/kaggle/input/iris/Iris.csv')
iris.drop(iris[iris['Species'] == "Iris-versicolor"].index, inplace=True)
iris
​
# %% [markdown]
# ***'Iris-setosa' превращаем в "0", а 'Iris-virginica' превращаем в "1"***
​
# %% [code] {"jupyter":{"outputs_hidden":false},"execution":{"iopub.status.busy":"2022-12-27T10:10:39.916272Z","iopub.execute_input":"2022-12-27T10:10:39.916641Z","iopub.status.idle":"2022-12-27T10:10:39.936626Z","shell.execute_reply.started":"2022-12-27T10:10:39.916607Z","shell.execute_reply":"2022-12-27T10:10:39.935566Z"}}
encoder = LabelEncoder()
iris['Species'] = encoder.fit_transform(iris['Species'])
iris
​
# %% [markdown]
# ***В массив "Х" записываем данные характеристик, а в массив "у" "Species"***
​
# %% [code] {"jupyter":{"outputs_hidden":false},"execution":{"iopub.status.busy":"2022-12-27T10:10:39.937897Z","iopub.execute_input":"2022-12-27T10:10:39.938499Z","iopub.status.idle":"2022-12-27T10:10:39.945237Z","shell.execute_reply.started":"2022-12-27T10:10:39.938456Z","shell.execute_reply":"2022-12-27T10:10:39.943941Z"}}
X = iris.iloc[:, 1:-1].values
y = iris.iloc[:,   -1].values 
​
# %% [markdown]
# ***Алгоритм обучения K-средних с визуализацией даннх***
​
# %% [code] {"jupyter":{"outputs_hidden":false},"execution":{"iopub.status.busy":"2022-12-27T10:32:33.893763Z","iopub.execute_input":"2022-12-27T10:32:33.894187Z","iopub.status.idle":"2022-12-27T10:32:34.352538Z","shell.execute_reply.started":"2022-12-27T10:32:33.894145Z","shell.execute_reply":"2022-12-27T10:32:34.351300Z"}}
wcss = []
